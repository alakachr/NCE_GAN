{
 "cells": [
  {
   "cell_type": "code",
   "execution_count": 3,
   "metadata": {},
   "outputs": [],
   "source": [
    "fkkhfrom numpy import exp\n",
    "from math import sqrt\n",
    "import numpy as np\n",
    "from numpy import random\n",
    "from math import pi\n",
    "\n",
    "import matplotlib.pyplot as plt\n",
    "from scipy.stats import norm\n"
   ]
  },
  {
   "cell_type": "code",
   "execution_count": 80,
   "metadata": {},
   "outputs": [],
   "source": [
    "# Density of Noise\n",
    "def pn(x, m0, s0):\n",
    "  return norm.pdf(x, m0, s0);\n",
    "\n",
    "\n",
    "\n",
    "## density of  posterior  unormalized:\n",
    "def pm0(x, m , s ):\n",
    "  return exp(-0.5*((x-m)/s)**2);\n"
   ]
  },
  {
   "cell_type": "code",
   "execution_count": 79,
   "metadata": {},
   "outputs": [],
   "source": [
    "class Gradient:\n",
    "\n",
    "\n",
    "    # instance attribute\n",
    "    def __init__(self, cte,mu,sigma, error_mu,error_sigma, error_cte, ctes,mus,sigmas):\n",
    "        self.cte = cte\n",
    "        self.mu = mu\n",
    "        self.sigma = sigma\n",
    "        \n",
    "        self.error_mu = error_mu\n",
    "        self.error_sigma = error_sigma\n",
    "        self.error_cte = error_cte \n",
    "        \n",
    "        self.ctes = ctes\n",
    "        self.mus = mus\n",
    "        self.sigmas = sigmas\n",
    "        "
   ]
  },
  {
   "cell_type": "markdown",
   "metadata": {},
   "source": [
    "## NCE for a 1D distribution\n",
    "\n",
    "Data $X \\sim  N(m,s)$\n",
    "\n",
    "Noise $Y \\sim  Q = \\mu +\\sigma N(0,1)$ with $\\mu, \\sigma$ fixed (in the code it is fixed at mu_unit and sigma_init)"
   ]
  },
  {
   "cell_type": "code",
   "execution_count": 82,
   "metadata": {},
   "outputs": [],
   "source": [
    "def NCEDescent(x_batches, m, s,mu_init =10, sigma_init=10, cte_init = 0.2, learning_rate = [0.01, 0.01],max_iters = 500):    \n",
    "    \n",
    "    m0 = mu_init \n",
    "    s0 =sigma_init\n",
    "    cte = cte_init\n",
    "    \n",
    "    #not used for nce\n",
    "    error_mu = [] \n",
    "    error_sigma = []\n",
    "    error_cte = [] \n",
    "    \n",
    "    mus = []\n",
    "    sigmas = []\n",
    "    ctes = []\n",
    "     \n",
    "    batch_size= len(x_batches[0])\n",
    "    \n",
    "     \n",
    "    for itr in range(max_iters): \n",
    "        \n",
    "        for x in x_batches:\n",
    "            ctes.append(cte)\n",
    "            #mus.append(mu)\n",
    "            #sigmas.append(sigma)\n",
    "            \n",
    "            z= random.normal( 0, 1,batch_size) \n",
    "            q = m0+s0*z\n",
    "            \n",
    "            #Gradient in respect to the constant\n",
    "            grad_cte = 1/cte - pm0(x,m,s)/(cte*pm0(x,m,s)+pn(x, m0,s0)) -  pm0(q,m,s)/(cte*pm0(q,m,s)+pn(q,m0,s0))\n",
    "            grad_cte = np.sum(grad_cte)/batch_size\n",
    "            cte = cte + learning_rate[0] * grad_cte\n",
    "            error_cte.append( (grad_cte) ) \n",
    "            \n",
    "    result = Gradient(cte,m0,s0, error_mu,error_sigma, error_cte, ctes,mus,sigmas)\n",
    "    return result\n"
   ]
  },
  {
   "cell_type": "markdown",
   "metadata": {},
   "source": [
    "### Lets experiment NCE with different values of $\\mu_{data}, \\sigma_{data} , \\mu_{noise}, \\sigma_{noise}$ "
   ]
  },
  {
   "cell_type": "code",
   "execution_count": 83,
   "metadata": {},
   "outputs": [
    {
     "name": "stdout",
     "output_type": "stream",
     "text": [
      "constant estimate 1.9936533306651985\n",
      "true constant value 1.9947114020071635\n"
     ]
    }
   ],
   "source": [
    "mupo = 24\n",
    "sigmapo = 0.2\n",
    "batch_size=100\n",
    "X = random.normal(mupo, sigmapo, 1000)\n",
    "x_batches = np.reshape(X, (10, batch_size)) \n",
    "\n",
    "\n",
    "\n",
    "grad=NCEDescent(x_batches,mupo, sigmapo,mu_init = 24, sigma_init=0.2, cte_init = 0.2, learning_rate = [0.01,0.01], max_iters = 500)    \n",
    "print(\"constant estimate\",grad.cte)\n",
    "print(\"true constant value\" , 1/(sqrt(2*pi)*sigmapo))"
   ]
  },
  {
   "cell_type": "code",
   "execution_count": 70,
   "metadata": {},
   "outputs": [
    {
     "name": "stdout",
     "output_type": "stream",
     "text": [
      "constant estimate 0.056991754343061814\n",
      "true constant value 0.05699175434306182\n"
     ]
    }
   ],
   "source": [
    "mupo = 0.5\n",
    "sigmapo = 7\n",
    "batch_size=100\n",
    "X = random.normal(mupo, sigmapo, 1000)\n",
    "x_batches = np.reshape(X, (10, batch_size)) \n",
    "\n",
    "\n",
    "\n",
    "grad=NCEDescent(x_batches,mupo, sigmapo,mu_init = 0.5, sigma_init=7, cte_init = 0.2, learning_rate = [0.01,0.01], max_iters = 500)    \n",
    "print(\"constant estimate\",grad.cte)\n",
    "print(\"true constant value\" , 1/(sqrt(2*pi)*sigmapo))"
   ]
  },
  {
   "cell_type": "code",
   "execution_count": 71,
   "metadata": {},
   "outputs": [
    {
     "name": "stdout",
     "output_type": "stream",
     "text": [
      "constant estimate 0.0662716326523202\n",
      "true constant value 0.05699175434306182\n"
     ]
    }
   ],
   "source": [
    "mupo = 0.5 #we take  mu_noise = 5\n",
    "sigmapo = 7\n",
    "batch_size=100\n",
    "X = random.normal(mupo, sigmapo, 1000)\n",
    "x_batches = np.reshape(X, (10, batch_size)) \n",
    "\n",
    "\n",
    "\n",
    "grad=NCEDescent(x_batches,mupo, sigmapo,mu_init = 5, sigma_init=7, cte_init = 0.2, learning_rate = [0.01,0.01], max_iters = 500)    \n",
    "print(\"constant estimate\",grad.cte)\n",
    "print(\"true constant value\" , 1/(sqrt(2*pi)*sigmapo))"
   ]
  },
  {
   "cell_type": "code",
   "execution_count": 72,
   "metadata": {},
   "outputs": [
    {
     "name": "stdout",
     "output_type": "stream",
     "text": [
      "constant estimate 0.05470142321146803\n",
      "true constant value 0.05699175434306182\n"
     ]
    }
   ],
   "source": [
    "mupo = 0.5 #we take  mu_noise = 5\n",
    "sigmapo = 7 #we take sigma_noise  = 5\n",
    "batch_size=100\n",
    "X = random.normal(mupo, sigmapo, 1000)\n",
    "x_batches = np.reshape(X, (10, batch_size)) \n",
    "\n",
    "\n",
    "\n",
    "grad=NCEDescent(x_batches,mupo, sigmapo,mu_init = 5, sigma_init=5, cte_init = 0.2, learning_rate = [0.01,0.01], max_iters = 500)    \n",
    "print(\"constant estimate\",grad.cte)\n",
    "print(\"true constant value\" , 1/(sqrt(2*pi)*sigmapo))"
   ]
  },
  {
   "cell_type": "markdown",
   "metadata": {},
   "source": [
    "## GAN for estimation of a 1D density\n",
    "\n",
    "Generator is given by $G(z) = \\mu + \\sigma*z$ with$z ~ N(0,1)$\n",
    "\n"
   ]
  },
  {
   "cell_type": "code",
   "execution_count": 84,
   "metadata": {},
   "outputs": [],
   "source": [
    "def GANDescent(x_batches, m, s,mu_init , sigma_init, cte_init , learning_rate = [0.01,0.01], max_iters = 500):    \n",
    "    \n",
    "    m0 = mu_init \n",
    "    s0 =sigma_init\n",
    "    cte = cte_init\n",
    "    \n",
    "    error_mu = [] \n",
    "    error_sigma = []\n",
    "    error_cte = [] \n",
    "    \n",
    "    mus = []\n",
    "    sigmas = []\n",
    "    ctes = []\n",
    "\n",
    "    batch_size= len(x_batches[0])\n",
    "     \n",
    "    for itr in range(max_iters): \n",
    "        \n",
    "        for x in x_batches:\n",
    "            ctes.append(cte)\n",
    "            mus.append(m0)\n",
    "            sigmas.append(s0)\n",
    "            \n",
    "            z= random.normal( 0, 1,batch_size) \n",
    "            q = m0+s0*z\n",
    "            \n",
    "            #Gradient in respect to the constant\n",
    "            grad_cte = 1/cte - pm0(x,m,s)/(cte*pm0(x,m,s)+pn(x, m0,s0)) -  pm0(q,m,s)/(cte*pm0(q,m,s)+pn(q,m0,s0))\n",
    "            grad_cte = np.sum(grad_cte)/batch_size\n",
    "            cte = cte + learning_rate[0] * grad_cte\n",
    "            error_cte.append( (grad_cte) ) \n",
    "            \n",
    "\n",
    "            #Gradient in respect to noise parameters\n",
    "           \n",
    "            grad_mu = -(q-m0)/s0**2 +((q-m0)*norm.pdf(q, m0, s0)/s0**2 + \n",
    "                        (q-m)*cte*exp(-0.5*((q-m)/s)**2)/s**2)/(cte*pm0(q,m,s) + norm.pdf(q,m0,s0))\n",
    "            grad_sigma = grad_mu*z\n",
    "            \n",
    "            grad_mu = np.sum(grad_mu)/batch_size\n",
    "            grad_sigma = np.sum(grad_sigma)/batch_size\n",
    "            \n",
    "            m0 = m0 - learning_rate[1] * grad_mu\n",
    "            s0 = s0 - learning_rate[1] * grad_sigma\n",
    "            \n",
    "            error_mu.append( (grad_mu) ) \n",
    "            error_sigma.append((grad_sigma))\n",
    "            \n",
    "  \n",
    "    result = Gradient(cte,m0,s0, error_mu,error_sigma, error_cte, ctes,mus,sigmas)\n",
    "    return result"
   ]
  },
  {
   "cell_type": "markdown",
   "metadata": {},
   "source": [
    "### Lets experiment GAN with different values of  $𝜇_{𝑑𝑎𝑡𝑎},𝜎_{𝑑𝑎𝑡𝑎},𝜇_{𝑛𝑜𝑖𝑠𝑒},𝜎_{𝑛𝑜𝑖𝑠𝑒}$"
   ]
  },
  {
   "cell_type": "code",
   "execution_count": 85,
   "metadata": {},
   "outputs": [
    {
     "name": "stdout",
     "output_type": "stream",
     "text": [
      "#########  With good learning rate for gen parameters ########\n",
      "constant estimate 0.056279398800919395\n",
      "true constant value 0.05699175434306182\n",
      "mu generaor  22.92671568080128\n",
      "sigma generaor  7.299450347971791\n",
      "\n",
      " #########  With bad learning rate for gen parameters #######\n",
      "constant estimate 0.06204825473115149\n",
      "true constant value 0.05699175434306182\n",
      "mu generaor  5.921205155801803\n",
      "sigma generaor  2.660346940602314\n"
     ]
    }
   ],
   "source": [
    "mupo = 24\n",
    "sigmapo = 7\n",
    "batch_size=100\n",
    "X = random.normal(mupo, sigmapo, 1000)\n",
    "x_batches = np.reshape(X, (10, batch_size)) \n",
    "\n",
    "print(\"#########  With good learning rate for gen parameters ########\")\n",
    "\n",
    "grad=GANDescent(x_batches,mupo, sigmapo,mu_init = 5, sigma_init=0.2, cte_init = 0.2, learning_rate = [0.01,0.1], max_iters = 500)    \n",
    "print(\"constant estimate\",grad.cte)\n",
    "print(\"true constant value\" , 1/(sqrt(2*pi)*sigmapo))\n",
    "print(\"mu generaor \",grad.mu)\n",
    "print(\"sigma generaor \",grad.sigma)\n",
    "\n",
    "print(\"\\n #########  With bad learning rate for gen parameters #######\")\n",
    "\n",
    "grad=GANDescent(x_batches,mupo, sigmapo,mu_init = 5, sigma_init=0.2, cte_init = 0.2, learning_rate = [0.01,0.01], max_iters = 500)    \n",
    "print(\"constant estimate\",grad.cte)\n",
    "print(\"true constant value\" , 1/(sqrt(2*pi)*sigmapo))\n",
    "print(\"mu generaor \",grad.mu)\n",
    "print(\"sigma generaor \",grad.sigma)\n",
    "\n"
   ]
  },
  {
   "cell_type": "code",
   "execution_count": 77,
   "metadata": {},
   "outputs": [
    {
     "name": "stdout",
     "output_type": "stream",
     "text": [
      "constant estimate 0.2\n",
      "true constant value 1.9947114020071635\n",
      "mu generaor  5.0\n",
      "sigma generaor  1.0\n"
     ]
    }
   ],
   "source": [
    "mupo = 24\n",
    "sigmapo = 0.2\n",
    "batch_size=100\n",
    "X = random.normal(mupo, sigmapo, 1000)\n",
    "x_batches = np.reshape(X, (10, batch_size)) \n",
    "\n",
    "### Problemes numeriques !!!!\n",
    "\n",
    "grad=GANDescent(x_batches,mupo, sigmapo,mu_init = 5, sigma_init=1, cte_init = 0.2, learning_rate = [0.01,0.1], max_iters = 800)    \n",
    "print(\"constant estimate\",grad.cte)\n",
    "print(\"true constant value\" , 1/(sqrt(2*pi)*sigmapo))\n",
    "print(\"mu generaor \",grad.mu)\n",
    "print(\"sigma generaor \",grad.sigma)\n"
   ]
  },
  {
   "cell_type": "code",
   "execution_count": 61,
   "metadata": {},
   "outputs": [
    {
     "data": {
      "text/plain": [
       "2.575717417130363e-16"
      ]
     },
     "execution_count": 61,
     "metadata": {},
     "output_type": "execute_result"
    }
   ],
   "source": [
    "grad.error_cte[1]"
   ]
  },
  {
   "cell_type": "code",
   "execution_count": 63,
   "metadata": {},
   "outputs": [
    {
     "data": {
      "text/plain": [
       "1.0"
      ]
     },
     "execution_count": 63,
     "metadata": {},
     "output_type": "execute_result"
    }
   ],
   "source": [
    "pm0(mupo,mupo,sigmapo)"
   ]
  },
  {
   "cell_type": "code",
   "execution_count": null,
   "metadata": {},
   "outputs": [],
   "source": []
  },
  {
   "cell_type": "code",
   "execution_count": 78,
   "metadata": {},
   "outputs": [
    {
     "name": "stdout",
     "output_type": "stream",
     "text": [
      "constant estimate 1.9937518424550373\n",
      "true constant value 1.9947114020071635\n",
      "mu generaor  0.5037663273395179\n",
      "sigma generaor  0.31460127094663415\n"
     ]
    }
   ],
   "source": [
    "mupo = 0.5\n",
    "sigmapo = 0.2\n",
    "batch_size=100\n",
    "X = random.normal(mupo, sigmapo, 1000)\n",
    "x_batches = np.reshape(X, (10, batch_size)) \n",
    "\n",
    "\n",
    "\n",
    "grad=GANDescent(x_batches,mupo, sigmapo,mu_init = 5, sigma_init=1, cte_init = 0.2, learning_rate = [0.01,0.1], max_iters = 800)    \n",
    "print(\"constant estimate\",grad.cte)\n",
    "print(\"true constant value\" , 1/(sqrt(2*pi)*sigmapo))\n",
    "print(\"mu generaor \",grad.mu)\n",
    "print(\"sigma generaor \",grad.sigma)\n"
   ]
  },
  {
   "cell_type": "markdown",
   "metadata": {},
   "source": [
    "### Plots and  Numerical Experiments"
   ]
  },
  {
   "cell_type": "code",
   "execution_count": 87,
   "metadata": {},
   "outputs": [],
   "source": [
    "mupo = 5\n",
    "sigmapo = 0.2\n",
    "batch_size=100\n",
    "X = random.normal(mupo, sigmapo, 1000)\n",
    "x_batches = np.reshape(X, (10, batch_size)) \n",
    "\n",
    "l=50\n",
    "MU = np.linspace(-10 , 10, num=l)\n",
    "nces = np.ones(l)\n",
    "\n",
    "for i in range(l):\n",
    "    grad=GANDescent(x_batches,mupo, sigmapo,mu_init = MU[i], sigma_init= sigmapo, cte_init = 0.2, learning_rate = [0.01,0.1], max_iters = 500)    \n",
    "\n",
    "    nces[i]= grad.cte\n",
    "    \n"
   ]
  },
  {
   "cell_type": "code",
   "execution_count": 89,
   "metadata": {},
   "outputs": [
    {
     "data": {
      "text/plain": [
       "[<matplotlib.lines.Line2D at 0x211a35a3d48>]"
      ]
     },
     "execution_count": 89,
     "metadata": {},
     "output_type": "execute_result"
    },
    {
     "data": {
      "image/png": "[encoded data removed]",
      "text/plain": [
       "<Figure size 432x288 with 1 Axes>"
      ]
     },
     "metadata": {
      "needs_background": "light"
     },
     "output_type": "display_data"
    }
   ],
   "source": [
    "plt.plot(MU, nces)"
   ]
  },
  {
   "cell_type": "code",
   "execution_count": 96,
   "metadata": {},
   "outputs": [],
   "source": [
    "mupo = 5\n",
    "sigmapo = 0.2\n",
    "batch_size=100\n",
    "X = random.normal(mupo, sigmapo, 1000)\n",
    "x_batches = np.reshape(X, (10, batch_size)) \n",
    "\n",
    "l=200\n",
    "MU = np.linspace(-10 , 10, num=l)\n",
    "nces1 = np.ones(l)\n",
    "\n",
    "for i in range(l):\n",
    "    grad=NCEDescent(x_batches,mupo, sigmapo,mu_init = MU[i], sigma_init= sigmapo, cte_init = 0.2, learning_rate = [0.01,0.1], max_iters = 500)    \n",
    "\n",
    "    nces1[i]= grad.cte\n",
    "    \n"
   ]
  },
  {
   "cell_type": "code",
   "execution_count": 97,
   "metadata": {},
   "outputs": [
    {
     "data": {
      "text/plain": [
       "<matplotlib.collections.PathCollection at 0x211a3cdbc88>"
      ]
     },
     "execution_count": 97,
     "metadata": {},
     "output_type": "execute_result"
    },
    {
     "data": {
      "image/png": "[encoded data removed]",
      "text/plain": [
       "<Figure size 432x288 with 1 Axes>"
      ]
     },
     "metadata": {
      "needs_background": "light"
     },
     "output_type": "display_data"
    }
   ],
   "source": [
    "plt.scatter(MU, nces1)\n",
    "#plt.hist( nces1)"
   ]
  },
  {
   "cell_type": "code",
   "execution_count": 31,
   "metadata": {},
   "outputs": [
    {
     "name": "stdout",
     "output_type": "stream",
     "text": [
      "constant estimate 1.9936533306651985\n",
      "true constant value 1.9947114020071635\n"
     ]
    }
   ],
   "source": [
    "mupo = 24\n",
    "sigmapo = 0.2\n",
    "batch_size=100\n",
    "X = random.normal(mupo, sigmapo, 1000)\n",
    "x_batches = np.reshape(X, (10, batch_size)) \n",
    "\n",
    "\n",
    "\n",
    "grad=NCEDescent(x_batches,mupo, sigmapo,mu_init = 24, sigma_init=0.2, cte_init = 0.2, learning_rate = 0.01, max_iters = 500)    \n",
    "print(\"constant estimate\",grad.cte)\n",
    "print(\"true constant value\" , 1/(sqrt(2*pi)*sigmapo))"
   ]
  },
  {
   "cell_type": "code",
   "execution_count": 32,
   "metadata": {},
   "outputs": [
    {
     "name": "stdout",
     "output_type": "stream",
     "text": [
      "constant estimate 0.05699175434306183\n",
      "true constant value 0.05699175434306182\n"
     ]
    }
   ],
   "source": [
    "mupo = 0.5\n",
    "sigmapo = 7\n",
    "batch_size=100\n",
    "X = random.normal(mupo, sigmapo, 1000)\n",
    "x_batches = np.reshape(X, (10, batch_size)) \n",
    "\n",
    "\n",
    "\n",
    "grad=NCEDescent(x_batches,mupo, sigmapo,mu_init = 0.5, sigma_init=7, cte_init = 0.2, learning_rate = [0.01,0.01], max_iters = 500)    \n",
    "print(\"constant estimate\",grad.cte)\n",
    "print(\"true constant value\" , 1/(sqrt(2*pi)*sigmapo))"
   ]
  },
  {
   "cell_type": "code",
   "execution_count": 34,
   "metadata": {},
   "outputs": [
    {
     "name": "stdout",
     "output_type": "stream",
     "text": [
      "constant estimate 0.055183661739152234\n",
      "true constant value 0.05699175434306182\n"
     ]
    }
   ],
   "source": [
    "mupo = 0.5 #we take  mu_noise = 5\n",
    "sigmapo = 7\n",
    "batch_size=100\n",
    "X = random.normal(mupo, sigmapo, 1000)\n",
    "x_batches = np.reshape(X, (10, batch_size)) \n",
    "\n",
    "\n",
    "\n",
    "grad=NCEDescent(x_batches,mupo, sigmapo,mu_init = 5, sigma_init=7, cte_init = 0.2, learning_rate = [0.01,0.01], max_iters = 500)    \n",
    "print(\"constant estimate\",grad.cte)\n",
    "print(\"true constant value\" , 1/(sqrt(2*pi)*sigmapo))"
   ]
  },
  {
   "cell_type": "code",
   "execution_count": 35,
   "metadata": {},
   "outputs": [
    {
     "name": "stdout",
     "output_type": "stream",
     "text": [
      "constant estimate 0.06259480254408845\n",
      "true constant value 0.05699175434306182\n"
     ]
    }
   ],
   "source": [
    "mupo = 0.5 #we take  mu_noise = 5\n",
    "sigmapo = 7 #we take sigma_noise  = 5\n",
    "batch_size=100\n",
    "X = random.normal(mupo, sigmapo, 1000)\n",
    "x_batches = np.reshape(X, (10, batch_size)) \n",
    "\n",
    "\n",
    "\n",
    "grad=NCEDescent(x_batches,mupo, sigmapo,mu_init = 5, sigma_init=5, cte_init = 0.2, learning_rate = [0.01,0.01], max_iters = 500)    \n",
    "print(\"constant estimate\",grad.cte)\n",
    "print(\"true constant value\" , 1/(sqrt(2*pi)*sigmapo))"
   ]
  },
  {
   "cell_type": "code",
   "execution_count": 18,
   "metadata": {},
   "outputs": [
    {
     "data": {
      "text/plain": [
       "1.9947114020071635"
      ]
     },
     "execution_count": 18,
     "metadata": {},
     "output_type": "execute_result"
    }
   ],
   "source": [
    "cte = 1/(sqrt(2*pi)*0.2)\n",
    "cte"
   ]
  },
  {
   "cell_type": "code",
   "execution_count": null,
   "metadata": {},
   "outputs": [],
   "source": []
  }
 ],
 "metadata": {
  "kernelspec": {
   "display_name": "Python 3",
   "language": "python",
   "name": "python3"
  },
  "language_info": {
   "codemirror_mode": {
    "name": "ipython",
    "version": 3
   },
   "file_extension": ".py",
   "mimetype": "text/x-python",
   "name": "python",
   "nbconvert_exporter": "python",
   "pygments_lexer": "ipython3",
   "version": "3.7.4"
  }
 },
 "nbformat": 4,
 "nbformat_minor": 2
}
