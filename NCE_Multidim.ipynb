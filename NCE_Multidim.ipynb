{
 "cells": [
  {
   "cell_type": "code",
   "execution_count": 2,
   "metadata": {},
   "outputs": [],
   "source": [
    "from numpy import exp\n",
    "from math import sqrt\n",
    "import numpy as np\n",
    "from numpy import random\n",
    "from math import pi\n",
    "\n",
    "import matplotlib.pyplot as plt\n",
    "from scipy.stats import norm\n",
    "from scipy.stats import multivariate_normal"
   ]
  },
  {
   "cell_type": "code",
   "execution_count": 3,
   "metadata": {},
   "outputs": [],
   "source": [
    "# Densite du Noise\n",
    "def pn(x, m0, s0):\n",
    "    return multivariate_normal.pdf(x, m0, s0);\n",
    "\n",
    "\n",
    "\n",
    "## densité de la loi a posteriori non normalisée:\n",
    "def pm0(x, m , s ):\n",
    "    k= len(m)\n",
    "    return multivariate_normal.pdf(x, m, s)*np.sqrt(np.linalg.det(s)*(2*pi)**k);\n"
   ]
  },
  {
   "cell_type": "code",
   "execution_count": 4,
   "metadata": {},
   "outputs": [
    {
     "data": {
      "text/plain": [
       "array([1.        , 0.01536253])"
      ]
     },
     "execution_count": 4,
     "metadata": {},
     "output_type": "execute_result"
    }
   ],
   "source": [
    "s = [[2.0, 0.3], [0.3, 0.5]]\n",
    "m = [1,2]\n",
    "x = [[1,2], [3,4]]\n",
    "pn(x,m,s)\n",
    "pm0(x,m,s)"
   ]
  },
  {
   "cell_type": "code",
   "execution_count": 16,
   "metadata": {},
   "outputs": [
    {
     "data": {
      "text/plain": [
       "array([[0.27843976, 2.96049733],\n",
       "       [1.00003533, 1.09523898],\n",
       "       [2.41533996, 3.31728591]])"
      ]
     },
     "execution_count": 16,
     "metadata": {},
     "output_type": "execute_result"
    }
   ],
   "source": [
    "multivariate_normal.rvs(m,s,3)"
   ]
  },
  {
   "cell_type": "code",
   "execution_count": 5,
   "metadata": {},
   "outputs": [],
   "source": [
    "class Gradient:\n",
    "\n",
    "\n",
    "    # instance attribute\n",
    "    def __init__(self, cte,mu,sigma, error_mu,error_sigma, error_cte, ctes,mus,sigmas):\n",
    "        self.cte = cte\n",
    "        self.mu = mu\n",
    "        self.sigma = sigma\n",
    "        \n",
    "        self.error_mu = error_mu\n",
    "        self.error_sigma = error_sigma\n",
    "        self.error_cte = error_cte \n",
    "        \n",
    "        self.ctes = ctes\n",
    "        self.mus = mus\n",
    "        self.sigmas = sigmas\n",
    "        "
   ]
  },
  {
   "cell_type": "markdown",
   "metadata": {},
   "source": [
    "## NCE for a d-D distribution\n",
    "\n",
    "Data $\\begin{pmatrix} X_{1} \\\\ X_{2}\\\\...\\\\ X_{d} \\end{pmatrix} \\sim  N(m,\\Sigma)$\n",
    "\n",
    "Noise $Y \\sim  Q = \\mu +\\sigma N(0,1)$ with $\\mu, \\sigma$ fixed (in the code it is fixed at mu_unit and sigma_init)"
   ]
  },
  {
   "cell_type": "code",
   "execution_count": 6,
   "metadata": {},
   "outputs": [],
   "source": [
    "def NCEDescent(x_batches, m, s,mu_init =10, sigma_init=10, cte_init = 0.2, learning_rate = [0.01,0.01], max_iters = 500):    \n",
    "    \n",
    "    m0 = mu_init \n",
    "    s0 =sigma_init\n",
    "    cte = cte_init\n",
    "    \n",
    "    #not used for nce\n",
    "    error_mu = [] \n",
    "    error_sigma = []\n",
    "    error_cte = [] \n",
    "    \n",
    "    mus = []\n",
    "    sigmas = []\n",
    "    ctes = []\n",
    "    \n",
    "    batch_size= len(x_batches[0])\n",
    "    Q= multivariate_normal.rvs(m0,s0,(10,batch_size))\n",
    "     \n",
    "    for itr in range(max_iters): \n",
    "        \n",
    "        for i in range(len(x_batches)):\n",
    "            x= x_batches[i]\n",
    "            q=Q[i]\n",
    "            ctes.append(cte)\n",
    "    \n",
    "            #Gradient in respect to the constant\n",
    "            grad_cte = 1/cte - pm0(x,m,s)/(cte*pm0(x,m,s)+pn(x, m0,s0)) -  pm0(q,m,s)/(cte*pm0(q,m,s)+pn(q,m0,s0))\n",
    "            grad_cte = np.sum(grad_cte)/batch_size\n",
    "            cte = cte + learning_rate[0] * grad_cte\n",
    "            error_cte.append( (grad_cte) ) \n",
    "            \n",
    "    result = Gradient(cte,m0,s0, error_mu,error_sigma, error_cte, ctes,mus,sigmas)\n",
    "    return result\n"
   ]
  },
  {
   "cell_type": "code",
   "execution_count": 24,
   "metadata": {},
   "outputs": [
    {
     "data": {
      "text/plain": [
       "5.993776774285581"
      ]
     },
     "execution_count": 24,
     "metadata": {},
     "output_type": "execute_result"
    }
   ],
   "source": [
    "np.sqrt(np.linalg.det(s)*(2*pi)**len(m))"
   ]
  },
  {
   "cell_type": "code",
   "execution_count": 7,
   "metadata": {},
   "outputs": [
    {
     "name": "stdout",
     "output_type": "stream",
     "text": [
      "constant estimate 0.06637219940618727\n",
      "true constant value 0.06637219940618727\n"
     ]
    }
   ],
   "source": [
    "# d =2\n",
    "m = [1,2]\n",
    "s = [[2.0, 0.5], [0.5, 3]]\n",
    "\n",
    "batch_size=100\n",
    "x_batches = multivariate_normal.rvs(m, s, (10,batch_size))\n",
    "\n",
    "\n",
    "grad=NCEDescent(x_batches,m, s,mu_init = m, sigma_init=s, cte_init = 5, learning_rate = [0.01,0.01], max_iters = 500)    \n",
    "print(\"constant estimate\",grad.cte)\n",
    "print(\"true constant value\" , 1/np.sqrt(np.linalg.det(s)*(2*pi)**len(m)))"
   ]
  },
  {
   "cell_type": "code",
   "execution_count": 8,
   "metadata": {},
   "outputs": [
    {
     "name": "stdout",
     "output_type": "stream",
     "text": [
      "constant estimate 0.19594561451853698\n",
      "true constant value 0.19594561451853681\n"
     ]
    }
   ],
   "source": [
    "#d =3\n",
    "m = [1,2,3]\n",
    "s = [[1.0, 0.5,0.7], [0.5,1, 0.8], [0.7,0.8, 0.9]]\n",
    "\n",
    "batch_size=100\n",
    "x_batches = multivariate_normal.rvs(m, s, (10,batch_size))\n",
    "\n",
    "### very sensitive\n",
    "\n",
    "grad=NCEDescent(x_batches,m, s,mu_init = m, sigma_init=s, cte_init = 5, learning_rate = [0.0055,0.01], max_iters = 800)    \n",
    "print(\"constant estimate\",grad.cte)\n",
    "print(\"true constant value\" , 1/np.sqrt(np.linalg.det(s)*(2*pi)**len(m)))"
   ]
  },
  {
   "cell_type": "code",
   "execution_count": 9,
   "metadata": {},
   "outputs": [
    {
     "name": "stdout",
     "output_type": "stream",
     "text": [
      "constant estimate 0.10076169582167607\n",
      "true constant value 0.10076169582167606\n"
     ]
    }
   ],
   "source": [
    "#d =4\n",
    "m = [1,2,3,4]\n",
    "s = [[1.0, 0.5, 0.7, 0.14], \n",
    "     [0.5, 1 ,  0.8, 0.24],\n",
    "     [0.7, 0.8, 0.9, 0.34], \n",
    "     [0.14, 0.24, 0.34, 0.8] ]\n",
    "\n",
    "batch_size=100\n",
    "x_batches = multivariate_normal.rvs(m, s, (10,batch_size))\n",
    "\n",
    "### versy sensitive\n",
    "\n",
    "grad=NCEDescent(x_batches,m, s,mu_init = m, sigma_init=s, cte_init = 5, learning_rate = [0.0055,0.01], max_iters = 800)    \n",
    "print(\"constant estimate\",grad.cte)\n",
    "print(\"true constant value\" , 1/np.sqrt(np.linalg.det(s)*(2*pi)**len(m)))"
   ]
  }
 ],
 "metadata": {
  "kernelspec": {
   "display_name": "Python 3",
   "language": "python",
   "name": "python3"
  },
  "language_info": {
   "codemirror_mode": {
    "name": "ipython",
    "version": 3
   },
   "file_extension": ".py",
   "mimetype": "text/x-python",
   "name": "python",
   "nbconvert_exporter": "python",
   "pygments_lexer": "ipython3",
   "version": "3.8.2"
  }
 },
 "nbformat": 4,
 "nbformat_minor": 2
}
