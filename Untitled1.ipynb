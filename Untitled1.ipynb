{
 "cells": [
  {
   "cell_type": "code",
   "execution_count": 1,
   "metadata": {},
   "outputs": [],
   "source": [
    "import statsmodels.api as sm\n",
    "import statsmodels.formula.api as smf\n",
    "from function_memoire import*\n"
   ]
  },
  {
   "cell_type": "code",
   "execution_count": 2,
   "metadata": {},
   "outputs": [],
   "source": [
    "# Write data as dictionary\n",
    "\n",
    "\n",
    "    \n",
    "def NCE_Descent1D(X1,size, m, s,mu_init, sigma_init, nu = 1):\n",
    "    \n",
    "\n",
    "    Y = np.random.normal (mu_init, sigma_init, nu*size)\n",
    "    X = np.hstack((X1,Y))\n",
    "\n",
    "\n",
    "    C1=np.ones(size)\n",
    "    c= np.zeros(nu*size)\n",
    "    C = np.hstack((C1,c))\n",
    "\n",
    "    Z = np.log(pm0(X,m,s)/pn(X,mu_init,sigma_init))\n",
    "\n",
    "    mydata = {}\n",
    "    mydata['C'] = C\n",
    "    mydata['Z'] = Z\n",
    "\n",
    "\n",
    "    mylogit = smf.glm(formula='C ~ 1', offset = Z-np.log(nu) , data=mydata, family=sm.families.Binomial())\n",
    "    res = mylogit.fit()\n",
    "    \n",
    "    result = Grad(exp(res.params[0]),res.bse[0])\n",
    "    \n",
    "    \n",
    "    return(result)\n",
    "\n",
    "\n"
   ]
  },
  {
   "cell_type": "code",
   "execution_count": 3,
   "metadata": {},
   "outputs": [
    {
     "name": "stdout",
     "output_type": "stream",
     "text": [
      "0.39894228040143287\n",
      "0.04472135954999575\n"
     ]
    }
   ],
   "source": [
    "X = np.random.normal(0, 1, size=1000)\n",
    "cte = NCE_Descent1D(X,1000, 0, 1,0,1 , nu = 1)\n",
    "print( cte.cte)\n",
    "print(cte.std)"
   ]
  },
  {
   "cell_type": "code",
   "execution_count": 22,
   "metadata": {},
   "outputs": [
    {
     "name": "stdout",
     "output_type": "stream",
     "text": [
      "estim 0.38899063896911107\n",
      "true 0.3989422804014327\n"
     ]
    }
   ],
   "source": [
    "estim = exp(-0.9442)\n",
    "true= 1/np.sqrt(2*np.pi)\n",
    "print('estim', estim)\n",
    "print('true', true)"
   ]
  },
  {
   "cell_type": "code",
   "execution_count": null,
   "metadata": {},
   "outputs": [],
   "source": []
  }
 ],
 "metadata": {
  "kernelspec": {
   "display_name": "Python 3",
   "language": "python",
   "name": "python3"
  },
  "language_info": {
   "codemirror_mode": {
    "name": "ipython",
    "version": 3
   },
   "file_extension": ".py",
   "mimetype": "text/x-python",
   "name": "python",
   "nbconvert_exporter": "python",
   "pygments_lexer": "ipython3",
   "version": "3.7.7"
  }
 },
 "nbformat": 4,
 "nbformat_minor": 4
}
